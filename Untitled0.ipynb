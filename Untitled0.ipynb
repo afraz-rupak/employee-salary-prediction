{
  "nbformat": 4,
  "nbformat_minor": 0,
  "metadata": {
    "colab": {
      "name": "Untitled0.ipynb",
      "provenance": []
    },
    "kernelspec": {
      "name": "python3",
      "display_name": "Python 3"
    },
    "language_info": {
      "name": "python"
    }
  },
  "cells": [
    {
      "cell_type": "code",
      "source": [
        "import pandas as pd\n",
        "import numpy as np\n",
        "import seaborn as sb\n",
        "import matplotlib.pyplot as plt\n",
        "from sklearn.model_selection import train_test_split\n",
        "from sklearn.linear_model import LogisticRegression\n",
        "from sklearn.metrics import accuracy_score\n",
        "from sklearn.metrics import confusion_matrix\n",
        "from sklearn.metrics import plot_confusion_matrix"
      ],
      "metadata": {
        "id": "q8tpPGMG1Fsg"
      },
      "execution_count": null,
      "outputs": []
    },
    {
      "cell_type": "code",
      "execution_count": null,
      "metadata": {
        "colab": {
          "base_uri": "https://localhost:8080/"
        },
        "id": "mLSc6S9vynjR",
        "outputId": "c65842d0-2315-4eac-ecd9-4b3974f308ec"
      },
      "outputs": [
        {
          "output_type": "stream",
          "name": "stdout",
          "text": [
            "Drive already mounted at /content/drive; to attempt to forcibly remount, call drive.mount(\"/content/drive\", force_remount=True).\n"
          ]
        }
      ],
      "source": [
        "from google.colab import drive\n",
        "drive.mount('/content/drive')"
      ]
    },
    {
      "cell_type": "code",
      "source": [
        "file_path = '/content/drive/MyDrive/Data mining and Machine learning/honolulu.csv'"
      ],
      "metadata": {
        "id": "HWDXTtha0SSC"
      },
      "execution_count": null,
      "outputs": []
    },
    {
      "cell_type": "code",
      "source": [
        "df = pd.read_csv(file_path)\n",
        "df"
      ],
      "metadata": {
        "id": "ONByFGBU00zz",
        "colab": {
          "base_uri": "https://localhost:8080/",
          "height": 478
        },
        "outputId": "c20261ee-cfae-4c03-b9d7-f7b042dc76f4"
      },
      "execution_count": null,
      "outputs": [
        {
          "output_type": "execute_result",
          "data": {
            "text/html": [
              "<div>\n",
              "<style scoped>\n",
              "    .dataframe tbody tr th:only-of-type {\n",
              "        vertical-align: middle;\n",
              "    }\n",
              "\n",
              "    .dataframe tbody tr th {\n",
              "        vertical-align: top;\n",
              "    }\n",
              "\n",
              "    .dataframe thead th {\n",
              "        text-align: right;\n",
              "    }\n",
              "</style>\n",
              "<table border=\"1\" class=\"dataframe\">\n",
              "  <thead>\n",
              "    <tr style=\"text-align: right;\">\n",
              "      <th></th>\n",
              "      <th>sl_no</th>\n",
              "      <th>gender</th>\n",
              "      <th>ssc_p</th>\n",
              "      <th>ssc_b</th>\n",
              "      <th>hsc_p</th>\n",
              "      <th>hsc_b</th>\n",
              "      <th>hsc_s</th>\n",
              "      <th>degree_p</th>\n",
              "      <th>degree_t</th>\n",
              "      <th>workex</th>\n",
              "      <th>etest_p</th>\n",
              "      <th>specialisation</th>\n",
              "      <th>mba_p</th>\n",
              "      <th>status</th>\n",
              "      <th>salary</th>\n",
              "    </tr>\n",
              "  </thead>\n",
              "  <tbody>\n",
              "    <tr>\n",
              "      <th>0</th>\n",
              "      <td>1</td>\n",
              "      <td>M</td>\n",
              "      <td>67.00</td>\n",
              "      <td>Others</td>\n",
              "      <td>91.00</td>\n",
              "      <td>Others</td>\n",
              "      <td>Commerce</td>\n",
              "      <td>58.00</td>\n",
              "      <td>Sci&amp;Tech</td>\n",
              "      <td>No</td>\n",
              "      <td>55.0</td>\n",
              "      <td>Mkt&amp;HR</td>\n",
              "      <td>58.80</td>\n",
              "      <td>Placed</td>\n",
              "      <td>270000.0</td>\n",
              "    </tr>\n",
              "    <tr>\n",
              "      <th>1</th>\n",
              "      <td>2</td>\n",
              "      <td>M</td>\n",
              "      <td>79.33</td>\n",
              "      <td>Central</td>\n",
              "      <td>78.33</td>\n",
              "      <td>Others</td>\n",
              "      <td>Science</td>\n",
              "      <td>77.48</td>\n",
              "      <td>Sci&amp;Tech</td>\n",
              "      <td>Yes</td>\n",
              "      <td>86.5</td>\n",
              "      <td>Mkt&amp;Fin</td>\n",
              "      <td>66.28</td>\n",
              "      <td>Placed</td>\n",
              "      <td>200000.0</td>\n",
              "    </tr>\n",
              "    <tr>\n",
              "      <th>2</th>\n",
              "      <td>3</td>\n",
              "      <td>M</td>\n",
              "      <td>65.00</td>\n",
              "      <td>Central</td>\n",
              "      <td>68.00</td>\n",
              "      <td>Central</td>\n",
              "      <td>Arts</td>\n",
              "      <td>64.00</td>\n",
              "      <td>Comm&amp;Mgmt</td>\n",
              "      <td>No</td>\n",
              "      <td>75.0</td>\n",
              "      <td>Mkt&amp;Fin</td>\n",
              "      <td>57.80</td>\n",
              "      <td>Placed</td>\n",
              "      <td>250000.0</td>\n",
              "    </tr>\n",
              "    <tr>\n",
              "      <th>3</th>\n",
              "      <td>4</td>\n",
              "      <td>M</td>\n",
              "      <td>56.00</td>\n",
              "      <td>Central</td>\n",
              "      <td>52.00</td>\n",
              "      <td>Central</td>\n",
              "      <td>Science</td>\n",
              "      <td>52.00</td>\n",
              "      <td>Sci&amp;Tech</td>\n",
              "      <td>No</td>\n",
              "      <td>66.0</td>\n",
              "      <td>Mkt&amp;HR</td>\n",
              "      <td>59.43</td>\n",
              "      <td>Not Placed</td>\n",
              "      <td>NaN</td>\n",
              "    </tr>\n",
              "    <tr>\n",
              "      <th>4</th>\n",
              "      <td>5</td>\n",
              "      <td>M</td>\n",
              "      <td>85.80</td>\n",
              "      <td>Central</td>\n",
              "      <td>73.60</td>\n",
              "      <td>Central</td>\n",
              "      <td>Commerce</td>\n",
              "      <td>73.30</td>\n",
              "      <td>Comm&amp;Mgmt</td>\n",
              "      <td>No</td>\n",
              "      <td>96.8</td>\n",
              "      <td>Mkt&amp;Fin</td>\n",
              "      <td>55.50</td>\n",
              "      <td>Placed</td>\n",
              "      <td>425000.0</td>\n",
              "    </tr>\n",
              "    <tr>\n",
              "      <th>...</th>\n",
              "      <td>...</td>\n",
              "      <td>...</td>\n",
              "      <td>...</td>\n",
              "      <td>...</td>\n",
              "      <td>...</td>\n",
              "      <td>...</td>\n",
              "      <td>...</td>\n",
              "      <td>...</td>\n",
              "      <td>...</td>\n",
              "      <td>...</td>\n",
              "      <td>...</td>\n",
              "      <td>...</td>\n",
              "      <td>...</td>\n",
              "      <td>...</td>\n",
              "      <td>...</td>\n",
              "    </tr>\n",
              "    <tr>\n",
              "      <th>210</th>\n",
              "      <td>211</td>\n",
              "      <td>M</td>\n",
              "      <td>80.60</td>\n",
              "      <td>Others</td>\n",
              "      <td>82.00</td>\n",
              "      <td>Others</td>\n",
              "      <td>Commerce</td>\n",
              "      <td>77.60</td>\n",
              "      <td>Comm&amp;Mgmt</td>\n",
              "      <td>No</td>\n",
              "      <td>91.0</td>\n",
              "      <td>Mkt&amp;Fin</td>\n",
              "      <td>74.49</td>\n",
              "      <td>Placed</td>\n",
              "      <td>400000.0</td>\n",
              "    </tr>\n",
              "    <tr>\n",
              "      <th>211</th>\n",
              "      <td>212</td>\n",
              "      <td>M</td>\n",
              "      <td>58.00</td>\n",
              "      <td>Others</td>\n",
              "      <td>60.00</td>\n",
              "      <td>Others</td>\n",
              "      <td>Science</td>\n",
              "      <td>72.00</td>\n",
              "      <td>Sci&amp;Tech</td>\n",
              "      <td>No</td>\n",
              "      <td>74.0</td>\n",
              "      <td>Mkt&amp;Fin</td>\n",
              "      <td>53.62</td>\n",
              "      <td>Placed</td>\n",
              "      <td>275000.0</td>\n",
              "    </tr>\n",
              "    <tr>\n",
              "      <th>212</th>\n",
              "      <td>213</td>\n",
              "      <td>M</td>\n",
              "      <td>67.00</td>\n",
              "      <td>Others</td>\n",
              "      <td>67.00</td>\n",
              "      <td>Others</td>\n",
              "      <td>Commerce</td>\n",
              "      <td>73.00</td>\n",
              "      <td>Comm&amp;Mgmt</td>\n",
              "      <td>Yes</td>\n",
              "      <td>59.0</td>\n",
              "      <td>Mkt&amp;Fin</td>\n",
              "      <td>69.72</td>\n",
              "      <td>Placed</td>\n",
              "      <td>295000.0</td>\n",
              "    </tr>\n",
              "    <tr>\n",
              "      <th>213</th>\n",
              "      <td>214</td>\n",
              "      <td>F</td>\n",
              "      <td>74.00</td>\n",
              "      <td>Others</td>\n",
              "      <td>66.00</td>\n",
              "      <td>Others</td>\n",
              "      <td>Commerce</td>\n",
              "      <td>58.00</td>\n",
              "      <td>Comm&amp;Mgmt</td>\n",
              "      <td>No</td>\n",
              "      <td>70.0</td>\n",
              "      <td>Mkt&amp;HR</td>\n",
              "      <td>60.23</td>\n",
              "      <td>Placed</td>\n",
              "      <td>204000.0</td>\n",
              "    </tr>\n",
              "    <tr>\n",
              "      <th>214</th>\n",
              "      <td>215</td>\n",
              "      <td>M</td>\n",
              "      <td>62.00</td>\n",
              "      <td>Central</td>\n",
              "      <td>58.00</td>\n",
              "      <td>Others</td>\n",
              "      <td>Science</td>\n",
              "      <td>53.00</td>\n",
              "      <td>Comm&amp;Mgmt</td>\n",
              "      <td>No</td>\n",
              "      <td>89.0</td>\n",
              "      <td>Mkt&amp;HR</td>\n",
              "      <td>60.22</td>\n",
              "      <td>Not Placed</td>\n",
              "      <td>NaN</td>\n",
              "    </tr>\n",
              "  </tbody>\n",
              "</table>\n",
              "<p>215 rows × 15 columns</p>\n",
              "</div>"
            ],
            "text/plain": [
              "     sl_no gender  ssc_p    ssc_b  ...  specialisation  mba_p      status    salary\n",
              "0        1      M  67.00   Others  ...          Mkt&HR  58.80      Placed  270000.0\n",
              "1        2      M  79.33  Central  ...         Mkt&Fin  66.28      Placed  200000.0\n",
              "2        3      M  65.00  Central  ...         Mkt&Fin  57.80      Placed  250000.0\n",
              "3        4      M  56.00  Central  ...          Mkt&HR  59.43  Not Placed       NaN\n",
              "4        5      M  85.80  Central  ...         Mkt&Fin  55.50      Placed  425000.0\n",
              "..     ...    ...    ...      ...  ...             ...    ...         ...       ...\n",
              "210    211      M  80.60   Others  ...         Mkt&Fin  74.49      Placed  400000.0\n",
              "211    212      M  58.00   Others  ...         Mkt&Fin  53.62      Placed  275000.0\n",
              "212    213      M  67.00   Others  ...         Mkt&Fin  69.72      Placed  295000.0\n",
              "213    214      F  74.00   Others  ...          Mkt&HR  60.23      Placed  204000.0\n",
              "214    215      M  62.00  Central  ...          Mkt&HR  60.22  Not Placed       NaN\n",
              "\n",
              "[215 rows x 15 columns]"
            ]
          },
          "metadata": {},
          "execution_count": 265
        }
      ]
    },
    {
      "cell_type": "code",
      "source": [
        "df.tail(10)"
      ],
      "metadata": {
        "colab": {
          "base_uri": "https://localhost:8080/",
          "height": 435
        },
        "id": "l4NYZ81A1Nqt",
        "outputId": "bf4fd982-a7f0-4dd6-bdfe-c1467911e676"
      },
      "execution_count": null,
      "outputs": [
        {
          "output_type": "execute_result",
          "data": {
            "text/html": [
              "<div>\n",
              "<style scoped>\n",
              "    .dataframe tbody tr th:only-of-type {\n",
              "        vertical-align: middle;\n",
              "    }\n",
              "\n",
              "    .dataframe tbody tr th {\n",
              "        vertical-align: top;\n",
              "    }\n",
              "\n",
              "    .dataframe thead th {\n",
              "        text-align: right;\n",
              "    }\n",
              "</style>\n",
              "<table border=\"1\" class=\"dataframe\">\n",
              "  <thead>\n",
              "    <tr style=\"text-align: right;\">\n",
              "      <th></th>\n",
              "      <th>sl_no</th>\n",
              "      <th>gender</th>\n",
              "      <th>ssc_p</th>\n",
              "      <th>ssc_b</th>\n",
              "      <th>hsc_p</th>\n",
              "      <th>hsc_b</th>\n",
              "      <th>hsc_s</th>\n",
              "      <th>degree_p</th>\n",
              "      <th>degree_t</th>\n",
              "      <th>workex</th>\n",
              "      <th>etest_p</th>\n",
              "      <th>specialisation</th>\n",
              "      <th>mba_p</th>\n",
              "      <th>status</th>\n",
              "      <th>salary</th>\n",
              "    </tr>\n",
              "  </thead>\n",
              "  <tbody>\n",
              "    <tr>\n",
              "      <th>205</th>\n",
              "      <td>206</td>\n",
              "      <td>M</td>\n",
              "      <td>61.00</td>\n",
              "      <td>Others</td>\n",
              "      <td>62.0</td>\n",
              "      <td>Others</td>\n",
              "      <td>Commerce</td>\n",
              "      <td>65.0</td>\n",
              "      <td>Comm&amp;Mgmt</td>\n",
              "      <td>No</td>\n",
              "      <td>62.00</td>\n",
              "      <td>Mkt&amp;Fin</td>\n",
              "      <td>56.81</td>\n",
              "      <td>Placed</td>\n",
              "      <td>250000.0</td>\n",
              "    </tr>\n",
              "    <tr>\n",
              "      <th>206</th>\n",
              "      <td>207</td>\n",
              "      <td>M</td>\n",
              "      <td>41.00</td>\n",
              "      <td>Central</td>\n",
              "      <td>42.0</td>\n",
              "      <td>Central</td>\n",
              "      <td>Science</td>\n",
              "      <td>60.0</td>\n",
              "      <td>Comm&amp;Mgmt</td>\n",
              "      <td>No</td>\n",
              "      <td>97.00</td>\n",
              "      <td>Mkt&amp;Fin</td>\n",
              "      <td>53.39</td>\n",
              "      <td>Not Placed</td>\n",
              "      <td>NaN</td>\n",
              "    </tr>\n",
              "    <tr>\n",
              "      <th>207</th>\n",
              "      <td>208</td>\n",
              "      <td>M</td>\n",
              "      <td>83.33</td>\n",
              "      <td>Central</td>\n",
              "      <td>78.0</td>\n",
              "      <td>Others</td>\n",
              "      <td>Commerce</td>\n",
              "      <td>61.0</td>\n",
              "      <td>Comm&amp;Mgmt</td>\n",
              "      <td>Yes</td>\n",
              "      <td>88.56</td>\n",
              "      <td>Mkt&amp;Fin</td>\n",
              "      <td>71.55</td>\n",
              "      <td>Placed</td>\n",
              "      <td>300000.0</td>\n",
              "    </tr>\n",
              "    <tr>\n",
              "      <th>208</th>\n",
              "      <td>209</td>\n",
              "      <td>F</td>\n",
              "      <td>43.00</td>\n",
              "      <td>Central</td>\n",
              "      <td>60.0</td>\n",
              "      <td>Others</td>\n",
              "      <td>Science</td>\n",
              "      <td>65.0</td>\n",
              "      <td>Comm&amp;Mgmt</td>\n",
              "      <td>No</td>\n",
              "      <td>92.66</td>\n",
              "      <td>Mkt&amp;HR</td>\n",
              "      <td>62.92</td>\n",
              "      <td>Not Placed</td>\n",
              "      <td>NaN</td>\n",
              "    </tr>\n",
              "    <tr>\n",
              "      <th>209</th>\n",
              "      <td>210</td>\n",
              "      <td>M</td>\n",
              "      <td>62.00</td>\n",
              "      <td>Central</td>\n",
              "      <td>72.0</td>\n",
              "      <td>Central</td>\n",
              "      <td>Commerce</td>\n",
              "      <td>65.0</td>\n",
              "      <td>Comm&amp;Mgmt</td>\n",
              "      <td>No</td>\n",
              "      <td>67.00</td>\n",
              "      <td>Mkt&amp;Fin</td>\n",
              "      <td>56.49</td>\n",
              "      <td>Placed</td>\n",
              "      <td>216000.0</td>\n",
              "    </tr>\n",
              "    <tr>\n",
              "      <th>210</th>\n",
              "      <td>211</td>\n",
              "      <td>M</td>\n",
              "      <td>80.60</td>\n",
              "      <td>Others</td>\n",
              "      <td>82.0</td>\n",
              "      <td>Others</td>\n",
              "      <td>Commerce</td>\n",
              "      <td>77.6</td>\n",
              "      <td>Comm&amp;Mgmt</td>\n",
              "      <td>No</td>\n",
              "      <td>91.00</td>\n",
              "      <td>Mkt&amp;Fin</td>\n",
              "      <td>74.49</td>\n",
              "      <td>Placed</td>\n",
              "      <td>400000.0</td>\n",
              "    </tr>\n",
              "    <tr>\n",
              "      <th>211</th>\n",
              "      <td>212</td>\n",
              "      <td>M</td>\n",
              "      <td>58.00</td>\n",
              "      <td>Others</td>\n",
              "      <td>60.0</td>\n",
              "      <td>Others</td>\n",
              "      <td>Science</td>\n",
              "      <td>72.0</td>\n",
              "      <td>Sci&amp;Tech</td>\n",
              "      <td>No</td>\n",
              "      <td>74.00</td>\n",
              "      <td>Mkt&amp;Fin</td>\n",
              "      <td>53.62</td>\n",
              "      <td>Placed</td>\n",
              "      <td>275000.0</td>\n",
              "    </tr>\n",
              "    <tr>\n",
              "      <th>212</th>\n",
              "      <td>213</td>\n",
              "      <td>M</td>\n",
              "      <td>67.00</td>\n",
              "      <td>Others</td>\n",
              "      <td>67.0</td>\n",
              "      <td>Others</td>\n",
              "      <td>Commerce</td>\n",
              "      <td>73.0</td>\n",
              "      <td>Comm&amp;Mgmt</td>\n",
              "      <td>Yes</td>\n",
              "      <td>59.00</td>\n",
              "      <td>Mkt&amp;Fin</td>\n",
              "      <td>69.72</td>\n",
              "      <td>Placed</td>\n",
              "      <td>295000.0</td>\n",
              "    </tr>\n",
              "    <tr>\n",
              "      <th>213</th>\n",
              "      <td>214</td>\n",
              "      <td>F</td>\n",
              "      <td>74.00</td>\n",
              "      <td>Others</td>\n",
              "      <td>66.0</td>\n",
              "      <td>Others</td>\n",
              "      <td>Commerce</td>\n",
              "      <td>58.0</td>\n",
              "      <td>Comm&amp;Mgmt</td>\n",
              "      <td>No</td>\n",
              "      <td>70.00</td>\n",
              "      <td>Mkt&amp;HR</td>\n",
              "      <td>60.23</td>\n",
              "      <td>Placed</td>\n",
              "      <td>204000.0</td>\n",
              "    </tr>\n",
              "    <tr>\n",
              "      <th>214</th>\n",
              "      <td>215</td>\n",
              "      <td>M</td>\n",
              "      <td>62.00</td>\n",
              "      <td>Central</td>\n",
              "      <td>58.0</td>\n",
              "      <td>Others</td>\n",
              "      <td>Science</td>\n",
              "      <td>53.0</td>\n",
              "      <td>Comm&amp;Mgmt</td>\n",
              "      <td>No</td>\n",
              "      <td>89.00</td>\n",
              "      <td>Mkt&amp;HR</td>\n",
              "      <td>60.22</td>\n",
              "      <td>Not Placed</td>\n",
              "      <td>NaN</td>\n",
              "    </tr>\n",
              "  </tbody>\n",
              "</table>\n",
              "</div>"
            ],
            "text/plain": [
              "     sl_no gender  ssc_p    ssc_b  ...  specialisation  mba_p      status    salary\n",
              "205    206      M  61.00   Others  ...         Mkt&Fin  56.81      Placed  250000.0\n",
              "206    207      M  41.00  Central  ...         Mkt&Fin  53.39  Not Placed       NaN\n",
              "207    208      M  83.33  Central  ...         Mkt&Fin  71.55      Placed  300000.0\n",
              "208    209      F  43.00  Central  ...          Mkt&HR  62.92  Not Placed       NaN\n",
              "209    210      M  62.00  Central  ...         Mkt&Fin  56.49      Placed  216000.0\n",
              "210    211      M  80.60   Others  ...         Mkt&Fin  74.49      Placed  400000.0\n",
              "211    212      M  58.00   Others  ...         Mkt&Fin  53.62      Placed  275000.0\n",
              "212    213      M  67.00   Others  ...         Mkt&Fin  69.72      Placed  295000.0\n",
              "213    214      F  74.00   Others  ...          Mkt&HR  60.23      Placed  204000.0\n",
              "214    215      M  62.00  Central  ...          Mkt&HR  60.22  Not Placed       NaN\n",
              "\n",
              "[10 rows x 15 columns]"
            ]
          },
          "metadata": {},
          "execution_count": 266
        }
      ]
    },
    {
      "cell_type": "code",
      "source": [
        "df.info()"
      ],
      "metadata": {
        "colab": {
          "base_uri": "https://localhost:8080/"
        },
        "id": "rXWP_k3P1b3s",
        "outputId": "9342d3ce-1d24-43be-c1c8-4d22590959ca"
      },
      "execution_count": null,
      "outputs": [
        {
          "output_type": "stream",
          "name": "stdout",
          "text": [
            "<class 'pandas.core.frame.DataFrame'>\n",
            "RangeIndex: 215 entries, 0 to 214\n",
            "Data columns (total 15 columns):\n",
            " #   Column          Non-Null Count  Dtype  \n",
            "---  ------          --------------  -----  \n",
            " 0   sl_no           215 non-null    int64  \n",
            " 1   gender          215 non-null    object \n",
            " 2   ssc_p           215 non-null    float64\n",
            " 3   ssc_b           215 non-null    object \n",
            " 4   hsc_p           215 non-null    float64\n",
            " 5   hsc_b           215 non-null    object \n",
            " 6   hsc_s           215 non-null    object \n",
            " 7   degree_p        215 non-null    float64\n",
            " 8   degree_t        215 non-null    object \n",
            " 9   workex          215 non-null    object \n",
            " 10  etest_p         215 non-null    float64\n",
            " 11  specialisation  215 non-null    object \n",
            " 12  mba_p           215 non-null    float64\n",
            " 13  status          215 non-null    object \n",
            " 14  salary          148 non-null    float64\n",
            "dtypes: float64(6), int64(1), object(8)\n",
            "memory usage: 25.3+ KB\n"
          ]
        }
      ]
    },
    {
      "cell_type": "code",
      "source": [
        "df.isnull().sum()"
      ],
      "metadata": {
        "colab": {
          "base_uri": "https://localhost:8080/"
        },
        "id": "D9EZ-wVe1jBn",
        "outputId": "dd4fcf7c-2a77-4753-f454-474e62efe6ab"
      },
      "execution_count": null,
      "outputs": [
        {
          "output_type": "execute_result",
          "data": {
            "text/plain": [
              "sl_no              0\n",
              "gender             0\n",
              "ssc_p              0\n",
              "ssc_b              0\n",
              "hsc_p              0\n",
              "hsc_b              0\n",
              "hsc_s              0\n",
              "degree_p           0\n",
              "degree_t           0\n",
              "workex             0\n",
              "etest_p            0\n",
              "specialisation     0\n",
              "mba_p              0\n",
              "status             0\n",
              "salary            67\n",
              "dtype: int64"
            ]
          },
          "metadata": {},
          "execution_count": 268
        }
      ]
    },
    {
      "cell_type": "code",
      "source": [
        "mean=df['salary'].mean()"
      ],
      "metadata": {
        "id": "xVGD9iB21oqb"
      },
      "execution_count": null,
      "outputs": []
    },
    {
      "cell_type": "code",
      "source": [
        "df.fillna(df.mean(),inplace=True)"
      ],
      "metadata": {
        "id": "Na_yv3IX2QFl"
      },
      "execution_count": null,
      "outputs": []
    },
    {
      "cell_type": "code",
      "source": [
        "df.isnull().sum()"
      ],
      "metadata": {
        "colab": {
          "base_uri": "https://localhost:8080/"
        },
        "id": "IOUp9Zhb2qNz",
        "outputId": "f93bb687-c2d9-4a0c-e106-98a5c9be34dd"
      },
      "execution_count": null,
      "outputs": [
        {
          "output_type": "execute_result",
          "data": {
            "text/plain": [
              "sl_no             0\n",
              "gender            0\n",
              "ssc_p             0\n",
              "ssc_b             0\n",
              "hsc_p             0\n",
              "hsc_b             0\n",
              "hsc_s             0\n",
              "degree_p          0\n",
              "degree_t          0\n",
              "workex            0\n",
              "etest_p           0\n",
              "specialisation    0\n",
              "mba_p             0\n",
              "status            0\n",
              "salary            0\n",
              "dtype: int64"
            ]
          },
          "metadata": {},
          "execution_count": 271
        }
      ]
    },
    {
      "cell_type": "code",
      "source": [
        "plt.figure(figsize=(16,9))\n",
        "x=df['sl_no']\n",
        "y=df['degree_p']\n",
        "plt.scatter(x,y,c='g')\n",
        "plt.xlabel(\"sl_no\")\n",
        "plt.ylabel(\"degree_p\")"
      ],
      "metadata": {
        "colab": {
          "base_uri": "https://localhost:8080/",
          "height": 402
        },
        "id": "aSDfN31h4s7v",
        "outputId": "ee24fea2-2291-484b-8cfc-88a3f9ede442"
      },
      "execution_count": null,
      "outputs": [
        {
          "output_type": "execute_result",
          "data": {
            "text/plain": [
              "Text(0, 0.5, 'degree_p')"
            ]
          },
          "metadata": {},
          "execution_count": 272
        },
        {
          "output_type": "display_data",
          "data": {
            "image/png": "[encoded data removed]",
            "text/plain": [
              "<Figure size 1152x648 with 1 Axes>"
            ]
          },
          "metadata": {
            "needs_background": "light"
          }
        }
      ]
    },
    {
      "cell_type": "code",
      "source": [
        "df=df.drop(['sl_no','gender', 'ssc_b','hsc_b'], axis = 1)"
      ],
      "metadata": {
        "id": "Y6tbEmrR484P"
      },
      "execution_count": null,
      "outputs": []
    },
    {
      "cell_type": "code",
      "source": [
        "df"
      ],
      "metadata": {
        "colab": {
          "base_uri": "https://localhost:8080/",
          "height": 478
        },
        "id": "RvLKS8cN7Pv0",
        "outputId": "ae65502c-25eb-4750-eb4c-e3ebb326125d"
      },
      "execution_count": null,
      "outputs": [
        {
          "output_type": "execute_result",
          "data": {
            "text/html": [
              "<div>\n",
              "<style scoped>\n",
              "    .dataframe tbody tr th:only-of-type {\n",
              "        vertical-align: middle;\n",
              "    }\n",
              "\n",
              "    .dataframe tbody tr th {\n",
              "        vertical-align: top;\n",
              "    }\n",
              "\n",
              "    .dataframe thead th {\n",
              "        text-align: right;\n",
              "    }\n",
              "</style>\n",
              "<table border=\"1\" class=\"dataframe\">\n",
              "  <thead>\n",
              "    <tr style=\"text-align: right;\">\n",
              "      <th></th>\n",
              "      <th>ssc_p</th>\n",
              "      <th>hsc_p</th>\n",
              "      <th>hsc_s</th>\n",
              "      <th>degree_p</th>\n",
              "      <th>degree_t</th>\n",
              "      <th>workex</th>\n",
              "      <th>etest_p</th>\n",
              "      <th>specialisation</th>\n",
              "      <th>mba_p</th>\n",
              "      <th>status</th>\n",
              "      <th>salary</th>\n",
              "    </tr>\n",
              "  </thead>\n",
              "  <tbody>\n",
              "    <tr>\n",
              "      <th>0</th>\n",
              "      <td>67.00</td>\n",
              "      <td>91.00</td>\n",
              "      <td>Commerce</td>\n",
              "      <td>58.00</td>\n",
              "      <td>Sci&amp;Tech</td>\n",
              "      <td>No</td>\n",
              "      <td>55.0</td>\n",
              "      <td>Mkt&amp;HR</td>\n",
              "      <td>58.80</td>\n",
              "      <td>Placed</td>\n",
              "      <td>270000.000000</td>\n",
              "    </tr>\n",
              "    <tr>\n",
              "      <th>1</th>\n",
              "      <td>79.33</td>\n",
              "      <td>78.33</td>\n",
              "      <td>Science</td>\n",
              "      <td>77.48</td>\n",
              "      <td>Sci&amp;Tech</td>\n",
              "      <td>Yes</td>\n",
              "      <td>86.5</td>\n",
              "      <td>Mkt&amp;Fin</td>\n",
              "      <td>66.28</td>\n",
              "      <td>Placed</td>\n",
              "      <td>200000.000000</td>\n",
              "    </tr>\n",
              "    <tr>\n",
              "      <th>2</th>\n",
              "      <td>65.00</td>\n",
              "      <td>68.00</td>\n",
              "      <td>Arts</td>\n",
              "      <td>64.00</td>\n",
              "      <td>Comm&amp;Mgmt</td>\n",
              "      <td>No</td>\n",
              "      <td>75.0</td>\n",
              "      <td>Mkt&amp;Fin</td>\n",
              "      <td>57.80</td>\n",
              "      <td>Placed</td>\n",
              "      <td>250000.000000</td>\n",
              "    </tr>\n",
              "    <tr>\n",
              "      <th>3</th>\n",
              "      <td>56.00</td>\n",
              "      <td>52.00</td>\n",
              "      <td>Science</td>\n",
              "      <td>52.00</td>\n",
              "      <td>Sci&amp;Tech</td>\n",
              "      <td>No</td>\n",
              "      <td>66.0</td>\n",
              "      <td>Mkt&amp;HR</td>\n",
              "      <td>59.43</td>\n",
              "      <td>Not Placed</td>\n",
              "      <td>288655.405405</td>\n",
              "    </tr>\n",
              "    <tr>\n",
              "      <th>4</th>\n",
              "      <td>85.80</td>\n",
              "      <td>73.60</td>\n",
              "      <td>Commerce</td>\n",
              "      <td>73.30</td>\n",
              "      <td>Comm&amp;Mgmt</td>\n",
              "      <td>No</td>\n",
              "      <td>96.8</td>\n",
              "      <td>Mkt&amp;Fin</td>\n",
              "      <td>55.50</td>\n",
              "      <td>Placed</td>\n",
              "      <td>425000.000000</td>\n",
              "    </tr>\n",
              "    <tr>\n",
              "      <th>...</th>\n",
              "      <td>...</td>\n",
              "      <td>...</td>\n",
              "      <td>...</td>\n",
              "      <td>...</td>\n",
              "      <td>...</td>\n",
              "      <td>...</td>\n",
              "      <td>...</td>\n",
              "      <td>...</td>\n",
              "      <td>...</td>\n",
              "      <td>...</td>\n",
              "      <td>...</td>\n",
              "    </tr>\n",
              "    <tr>\n",
              "      <th>210</th>\n",
              "      <td>80.60</td>\n",
              "      <td>82.00</td>\n",
              "      <td>Commerce</td>\n",
              "      <td>77.60</td>\n",
              "      <td>Comm&amp;Mgmt</td>\n",
              "      <td>No</td>\n",
              "      <td>91.0</td>\n",
              "      <td>Mkt&amp;Fin</td>\n",
              "      <td>74.49</td>\n",
              "      <td>Placed</td>\n",
              "      <td>400000.000000</td>\n",
              "    </tr>\n",
              "    <tr>\n",
              "      <th>211</th>\n",
              "      <td>58.00</td>\n",
              "      <td>60.00</td>\n",
              "      <td>Science</td>\n",
              "      <td>72.00</td>\n",
              "      <td>Sci&amp;Tech</td>\n",
              "      <td>No</td>\n",
              "      <td>74.0</td>\n",
              "      <td>Mkt&amp;Fin</td>\n",
              "      <td>53.62</td>\n",
              "      <td>Placed</td>\n",
              "      <td>275000.000000</td>\n",
              "    </tr>\n",
              "    <tr>\n",
              "      <th>212</th>\n",
              "      <td>67.00</td>\n",
              "      <td>67.00</td>\n",
              "      <td>Commerce</td>\n",
              "      <td>73.00</td>\n",
              "      <td>Comm&amp;Mgmt</td>\n",
              "      <td>Yes</td>\n",
              "      <td>59.0</td>\n",
              "      <td>Mkt&amp;Fin</td>\n",
              "      <td>69.72</td>\n",
              "      <td>Placed</td>\n",
              "      <td>295000.000000</td>\n",
              "    </tr>\n",
              "    <tr>\n",
              "      <th>213</th>\n",
              "      <td>74.00</td>\n",
              "      <td>66.00</td>\n",
              "      <td>Commerce</td>\n",
              "      <td>58.00</td>\n",
              "      <td>Comm&amp;Mgmt</td>\n",
              "      <td>No</td>\n",
              "      <td>70.0</td>\n",
              "      <td>Mkt&amp;HR</td>\n",
              "      <td>60.23</td>\n",
              "      <td>Placed</td>\n",
              "      <td>204000.000000</td>\n",
              "    </tr>\n",
              "    <tr>\n",
              "      <th>214</th>\n",
              "      <td>62.00</td>\n",
              "      <td>58.00</td>\n",
              "      <td>Science</td>\n",
              "      <td>53.00</td>\n",
              "      <td>Comm&amp;Mgmt</td>\n",
              "      <td>No</td>\n",
              "      <td>89.0</td>\n",
              "      <td>Mkt&amp;HR</td>\n",
              "      <td>60.22</td>\n",
              "      <td>Not Placed</td>\n",
              "      <td>288655.405405</td>\n",
              "    </tr>\n",
              "  </tbody>\n",
              "</table>\n",
              "<p>215 rows × 11 columns</p>\n",
              "</div>"
            ],
            "text/plain": [
              "     ssc_p  hsc_p     hsc_s  ...  mba_p      status         salary\n",
              "0    67.00  91.00  Commerce  ...  58.80      Placed  270000.000000\n",
              "1    79.33  78.33   Science  ...  66.28      Placed  200000.000000\n",
              "2    65.00  68.00      Arts  ...  57.80      Placed  250000.000000\n",
              "3    56.00  52.00   Science  ...  59.43  Not Placed  288655.405405\n",
              "4    85.80  73.60  Commerce  ...  55.50      Placed  425000.000000\n",
              "..     ...    ...       ...  ...    ...         ...            ...\n",
              "210  80.60  82.00  Commerce  ...  74.49      Placed  400000.000000\n",
              "211  58.00  60.00   Science  ...  53.62      Placed  275000.000000\n",
              "212  67.00  67.00  Commerce  ...  69.72      Placed  295000.000000\n",
              "213  74.00  66.00  Commerce  ...  60.23      Placed  204000.000000\n",
              "214  62.00  58.00   Science  ...  60.22  Not Placed  288655.405405\n",
              "\n",
              "[215 rows x 11 columns]"
            ]
          },
          "metadata": {},
          "execution_count": 274
        }
      ]
    },
    {
      "cell_type": "code",
      "source": [
        "from sklearn.preprocessing import LabelEncoder"
      ],
      "metadata": {
        "id": "UySshc7C7yLO"
      },
      "execution_count": null,
      "outputs": []
    },
    {
      "cell_type": "code",
      "source": [
        "encoder=LabelEncoder()"
      ],
      "metadata": {
        "id": "X7-iJzWE8EAF"
      },
      "execution_count": null,
      "outputs": []
    },
    {
      "cell_type": "code",
      "source": [
        "df['hsc_s']=encoder.fit_transform(df[['hsc_s']])"
      ],
      "metadata": {
        "colab": {
          "base_uri": "https://localhost:8080/"
        },
        "id": "wZl6jq_E8FQu",
        "outputId": "5d157b78-a674-48bf-979d-a066ae3dd4ef"
      },
      "execution_count": null,
      "outputs": [
        {
          "output_type": "stream",
          "name": "stderr",
          "text": [
            "/usr/local/lib/python3.7/dist-packages/sklearn/preprocessing/_label.py:115: DataConversionWarning: A column-vector y was passed when a 1d array was expected. Please change the shape of y to (n_samples, ), for example using ravel().\n",
            "  y = column_or_1d(y, warn=True)\n"
          ]
        }
      ]
    },
    {
      "cell_type": "code",
      "source": [
        "df['degree_t']=encoder.fit_transform(df[['degree_t']])"
      ],
      "metadata": {
        "colab": {
          "base_uri": "https://localhost:8080/"
        },
        "id": "DdI9q5mP98C2",
        "outputId": "7a215896-c62d-43c0-b674-1ac4e54d100d"
      },
      "execution_count": null,
      "outputs": [
        {
          "output_type": "stream",
          "name": "stderr",
          "text": [
            "/usr/local/lib/python3.7/dist-packages/sklearn/preprocessing/_label.py:115: DataConversionWarning: A column-vector y was passed when a 1d array was expected. Please change the shape of y to (n_samples, ), for example using ravel().\n",
            "  y = column_or_1d(y, warn=True)\n"
          ]
        }
      ]
    },
    {
      "cell_type": "code",
      "source": [
        "df['workex']=encoder.fit_transform(df[['workex']])"
      ],
      "metadata": {
        "colab": {
          "base_uri": "https://localhost:8080/"
        },
        "id": "6JQFfkRE-IBE",
        "outputId": "86fc6392-dcac-4ebf-a5c5-a572628cea07"
      },
      "execution_count": null,
      "outputs": [
        {
          "output_type": "stream",
          "name": "stderr",
          "text": [
            "/usr/local/lib/python3.7/dist-packages/sklearn/preprocessing/_label.py:115: DataConversionWarning: A column-vector y was passed when a 1d array was expected. Please change the shape of y to (n_samples, ), for example using ravel().\n",
            "  y = column_or_1d(y, warn=True)\n"
          ]
        }
      ]
    },
    {
      "cell_type": "code",
      "source": [
        "df['specialisation']=encoder.fit_transform(df[['specialisation']])"
      ],
      "metadata": {
        "colab": {
          "base_uri": "https://localhost:8080/"
        },
        "id": "3mo9jUOe-Stp",
        "outputId": "a4856afb-bae3-4984-dab3-7f9f99629684"
      },
      "execution_count": null,
      "outputs": [
        {
          "output_type": "stream",
          "name": "stderr",
          "text": [
            "/usr/local/lib/python3.7/dist-packages/sklearn/preprocessing/_label.py:115: DataConversionWarning: A column-vector y was passed when a 1d array was expected. Please change the shape of y to (n_samples, ), for example using ravel().\n",
            "  y = column_or_1d(y, warn=True)\n"
          ]
        }
      ]
    },
    {
      "cell_type": "code",
      "source": [
        "df['status']=encoder.fit_transform(df[['status']])"
      ],
      "metadata": {
        "colab": {
          "base_uri": "https://localhost:8080/"
        },
        "id": "PmKwUKR9-aJF",
        "outputId": "19234db0-a145-4911-ce67-a22964368588"
      },
      "execution_count": null,
      "outputs": [
        {
          "output_type": "stream",
          "name": "stderr",
          "text": [
            "/usr/local/lib/python3.7/dist-packages/sklearn/preprocessing/_label.py:115: DataConversionWarning: A column-vector y was passed when a 1d array was expected. Please change the shape of y to (n_samples, ), for example using ravel().\n",
            "  y = column_or_1d(y, warn=True)\n"
          ]
        }
      ]
    },
    {
      "cell_type": "code",
      "source": [
        "df"
      ],
      "metadata": {
        "colab": {
          "base_uri": "https://localhost:8080/",
          "height": 443
        },
        "id": "rgKL1Jog-jzx",
        "outputId": "9d623c89-6955-4f0e-de2f-446851819356"
      },
      "execution_count": null,
      "outputs": [
        {
          "output_type": "execute_result",
          "data": {
            "text/html": [
              "<div>\n",
              "<style scoped>\n",
              "    .dataframe tbody tr th:only-of-type {\n",
              "        vertical-align: middle;\n",
              "    }\n",
              "\n",
              "    .dataframe tbody tr th {\n",
              "        vertical-align: top;\n",
              "    }\n",
              "\n",
              "    .dataframe thead th {\n",
              "        text-align: right;\n",
              "    }\n",
              "</style>\n",
              "<table border=\"1\" class=\"dataframe\">\n",
              "  <thead>\n",
              "    <tr style=\"text-align: right;\">\n",
              "      <th></th>\n",
              "      <th>ssc_p</th>\n",
              "      <th>hsc_p</th>\n",
              "      <th>hsc_s</th>\n",
              "      <th>degree_p</th>\n",
              "      <th>degree_t</th>\n",
              "      <th>workex</th>\n",
              "      <th>etest_p</th>\n",
              "      <th>specialisation</th>\n",
              "      <th>mba_p</th>\n",
              "      <th>status</th>\n",
              "      <th>salary</th>\n",
              "    </tr>\n",
              "  </thead>\n",
              "  <tbody>\n",
              "    <tr>\n",
              "      <th>0</th>\n",
              "      <td>67.00</td>\n",
              "      <td>91.00</td>\n",
              "      <td>1</td>\n",
              "      <td>58.00</td>\n",
              "      <td>2</td>\n",
              "      <td>0</td>\n",
              "      <td>55.0</td>\n",
              "      <td>1</td>\n",
              "      <td>58.80</td>\n",
              "      <td>1</td>\n",
              "      <td>270000.000000</td>\n",
              "    </tr>\n",
              "    <tr>\n",
              "      <th>1</th>\n",
              "      <td>79.33</td>\n",
              "      <td>78.33</td>\n",
              "      <td>2</td>\n",
              "      <td>77.48</td>\n",
              "      <td>2</td>\n",
              "      <td>1</td>\n",
              "      <td>86.5</td>\n",
              "      <td>0</td>\n",
              "      <td>66.28</td>\n",
              "      <td>1</td>\n",
              "      <td>200000.000000</td>\n",
              "    </tr>\n",
              "    <tr>\n",
              "      <th>2</th>\n",
              "      <td>65.00</td>\n",
              "      <td>68.00</td>\n",
              "      <td>0</td>\n",
              "      <td>64.00</td>\n",
              "      <td>0</td>\n",
              "      <td>0</td>\n",
              "      <td>75.0</td>\n",
              "      <td>0</td>\n",
              "      <td>57.80</td>\n",
              "      <td>1</td>\n",
              "      <td>250000.000000</td>\n",
              "    </tr>\n",
              "    <tr>\n",
              "      <th>3</th>\n",
              "      <td>56.00</td>\n",
              "      <td>52.00</td>\n",
              "      <td>2</td>\n",
              "      <td>52.00</td>\n",
              "      <td>2</td>\n",
              "      <td>0</td>\n",
              "      <td>66.0</td>\n",
              "      <td>1</td>\n",
              "      <td>59.43</td>\n",
              "      <td>0</td>\n",
              "      <td>288655.405405</td>\n",
              "    </tr>\n",
              "    <tr>\n",
              "      <th>4</th>\n",
              "      <td>85.80</td>\n",
              "      <td>73.60</td>\n",
              "      <td>1</td>\n",
              "      <td>73.30</td>\n",
              "      <td>0</td>\n",
              "      <td>0</td>\n",
              "      <td>96.8</td>\n",
              "      <td>0</td>\n",
              "      <td>55.50</td>\n",
              "      <td>1</td>\n",
              "      <td>425000.000000</td>\n",
              "    </tr>\n",
              "    <tr>\n",
              "      <th>...</th>\n",
              "      <td>...</td>\n",
              "      <td>...</td>\n",
              "      <td>...</td>\n",
              "      <td>...</td>\n",
              "      <td>...</td>\n",
              "      <td>...</td>\n",
              "      <td>...</td>\n",
              "      <td>...</td>\n",
              "      <td>...</td>\n",
              "      <td>...</td>\n",
              "      <td>...</td>\n",
              "    </tr>\n",
              "    <tr>\n",
              "      <th>210</th>\n",
              "      <td>80.60</td>\n",
              "      <td>82.00</td>\n",
              "      <td>1</td>\n",
              "      <td>77.60</td>\n",
              "      <td>0</td>\n",
              "      <td>0</td>\n",
              "      <td>91.0</td>\n",
              "      <td>0</td>\n",
              "      <td>74.49</td>\n",
              "      <td>1</td>\n",
              "      <td>400000.000000</td>\n",
              "    </tr>\n",
              "    <tr>\n",
              "      <th>211</th>\n",
              "      <td>58.00</td>\n",
              "      <td>60.00</td>\n",
              "      <td>2</td>\n",
              "      <td>72.00</td>\n",
              "      <td>2</td>\n",
              "      <td>0</td>\n",
              "      <td>74.0</td>\n",
              "      <td>0</td>\n",
              "      <td>53.62</td>\n",
              "      <td>1</td>\n",
              "      <td>275000.000000</td>\n",
              "    </tr>\n",
              "    <tr>\n",
              "      <th>212</th>\n",
              "      <td>67.00</td>\n",
              "      <td>67.00</td>\n",
              "      <td>1</td>\n",
              "      <td>73.00</td>\n",
              "      <td>0</td>\n",
              "      <td>1</td>\n",
              "      <td>59.0</td>\n",
              "      <td>0</td>\n",
              "      <td>69.72</td>\n",
              "      <td>1</td>\n",
              "      <td>295000.000000</td>\n",
              "    </tr>\n",
              "    <tr>\n",
              "      <th>213</th>\n",
              "      <td>74.00</td>\n",
              "      <td>66.00</td>\n",
              "      <td>1</td>\n",
              "      <td>58.00</td>\n",
              "      <td>0</td>\n",
              "      <td>0</td>\n",
              "      <td>70.0</td>\n",
              "      <td>1</td>\n",
              "      <td>60.23</td>\n",
              "      <td>1</td>\n",
              "      <td>204000.000000</td>\n",
              "    </tr>\n",
              "    <tr>\n",
              "      <th>214</th>\n",
              "      <td>62.00</td>\n",
              "      <td>58.00</td>\n",
              "      <td>2</td>\n",
              "      <td>53.00</td>\n",
              "      <td>0</td>\n",
              "      <td>0</td>\n",
              "      <td>89.0</td>\n",
              "      <td>1</td>\n",
              "      <td>60.22</td>\n",
              "      <td>0</td>\n",
              "      <td>288655.405405</td>\n",
              "    </tr>\n",
              "  </tbody>\n",
              "</table>\n",
              "<p>215 rows × 11 columns</p>\n",
              "</div>"
            ],
            "text/plain": [
              "     ssc_p  hsc_p  hsc_s  ...  mba_p  status         salary\n",
              "0    67.00  91.00      1  ...  58.80       1  270000.000000\n",
              "1    79.33  78.33      2  ...  66.28       1  200000.000000\n",
              "2    65.00  68.00      0  ...  57.80       1  250000.000000\n",
              "3    56.00  52.00      2  ...  59.43       0  288655.405405\n",
              "4    85.80  73.60      1  ...  55.50       1  425000.000000\n",
              "..     ...    ...    ...  ...    ...     ...            ...\n",
              "210  80.60  82.00      1  ...  74.49       1  400000.000000\n",
              "211  58.00  60.00      2  ...  53.62       1  275000.000000\n",
              "212  67.00  67.00      1  ...  69.72       1  295000.000000\n",
              "213  74.00  66.00      1  ...  60.23       1  204000.000000\n",
              "214  62.00  58.00      2  ...  60.22       0  288655.405405\n",
              "\n",
              "[215 rows x 11 columns]"
            ]
          },
          "metadata": {},
          "execution_count": 282
        }
      ]
    },
    {
      "cell_type": "code",
      "source": [
        "new_df = df"
      ],
      "metadata": {
        "id": "xojkvXwRAI_B"
      },
      "execution_count": null,
      "outputs": []
    },
    {
      "cell_type": "code",
      "source": [
        "from sklearn.preprocessing import MinMaxScaler\n",
        "mms=MinMaxScaler()\n",
        "new_df['ssc_p']=mms.fit_transform(new_df[['ssc_p']])\n",
        "new_df['hsc_p']=mms.fit_transform(new_df[['hsc_p']])\n",
        "new_df['degree_p']=mms.fit_transform(new_df[['degree_p']])\n",
        "new_df['etest_p']=mms.fit_transform(new_df[['etest_p']])\n",
        "new_df['mba_p']=mms.fit_transform(new_df[['mba_p']])\n",
        "new_df['salary']=mms.fit_transform(new_df[['salary']])\n",
        "new_df"
      ],
      "metadata": {
        "colab": {
          "base_uri": "https://localhost:8080/",
          "height": 443
        },
        "id": "0Mk9ueJo_s70",
        "outputId": "ec86ec35-1a40-4c53-ecc7-1341f3392382"
      },
      "execution_count": null,
      "outputs": [
        {
          "output_type": "execute_result",
          "data": {
            "text/html": [
              "<div>\n",
              "<style scoped>\n",
              "    .dataframe tbody tr th:only-of-type {\n",
              "        vertical-align: middle;\n",
              "    }\n",
              "\n",
              "    .dataframe tbody tr th {\n",
              "        vertical-align: top;\n",
              "    }\n",
              "\n",
              "    .dataframe thead th {\n",
              "        text-align: right;\n",
              "    }\n",
              "</style>\n",
              "<table border=\"1\" class=\"dataframe\">\n",
              "  <thead>\n",
              "    <tr style=\"text-align: right;\">\n",
              "      <th></th>\n",
              "      <th>ssc_p</th>\n",
              "      <th>hsc_p</th>\n",
              "      <th>hsc_s</th>\n",
              "      <th>degree_p</th>\n",
              "      <th>degree_t</th>\n",
              "      <th>workex</th>\n",
              "      <th>etest_p</th>\n",
              "      <th>specialisation</th>\n",
              "      <th>mba_p</th>\n",
              "      <th>status</th>\n",
              "      <th>salary</th>\n",
              "    </tr>\n",
              "  </thead>\n",
              "  <tbody>\n",
              "    <tr>\n",
              "      <th>0</th>\n",
              "      <td>0.538240</td>\n",
              "      <td>0.889621</td>\n",
              "      <td>1</td>\n",
              "      <td>0.195122</td>\n",
              "      <td>2</td>\n",
              "      <td>0</td>\n",
              "      <td>0.104167</td>\n",
              "      <td>1</td>\n",
              "      <td>0.284483</td>\n",
              "      <td>1</td>\n",
              "      <td>0.094595</td>\n",
              "    </tr>\n",
              "    <tr>\n",
              "      <th>1</th>\n",
              "      <td>0.792414</td>\n",
              "      <td>0.680890</td>\n",
              "      <td>2</td>\n",
              "      <td>0.670244</td>\n",
              "      <td>2</td>\n",
              "      <td>1</td>\n",
              "      <td>0.760417</td>\n",
              "      <td>0</td>\n",
              "      <td>0.564843</td>\n",
              "      <td>1</td>\n",
              "      <td>0.000000</td>\n",
              "    </tr>\n",
              "    <tr>\n",
              "      <th>2</th>\n",
              "      <td>0.497011</td>\n",
              "      <td>0.510708</td>\n",
              "      <td>0</td>\n",
              "      <td>0.341463</td>\n",
              "      <td>0</td>\n",
              "      <td>0</td>\n",
              "      <td>0.520833</td>\n",
              "      <td>0</td>\n",
              "      <td>0.247001</td>\n",
              "      <td>1</td>\n",
              "      <td>0.067568</td>\n",
              "    </tr>\n",
              "    <tr>\n",
              "      <th>3</th>\n",
              "      <td>0.311482</td>\n",
              "      <td>0.247117</td>\n",
              "      <td>2</td>\n",
              "      <td>0.048780</td>\n",
              "      <td>2</td>\n",
              "      <td>0</td>\n",
              "      <td>0.333333</td>\n",
              "      <td>1</td>\n",
              "      <td>0.308096</td>\n",
              "      <td>0</td>\n",
              "      <td>0.119805</td>\n",
              "    </tr>\n",
              "    <tr>\n",
              "      <th>4</th>\n",
              "      <td>0.925788</td>\n",
              "      <td>0.602965</td>\n",
              "      <td>1</td>\n",
              "      <td>0.568293</td>\n",
              "      <td>0</td>\n",
              "      <td>0</td>\n",
              "      <td>0.975000</td>\n",
              "      <td>0</td>\n",
              "      <td>0.160795</td>\n",
              "      <td>1</td>\n",
              "      <td>0.304054</td>\n",
              "    </tr>\n",
              "    <tr>\n",
              "      <th>...</th>\n",
              "      <td>...</td>\n",
              "      <td>...</td>\n",
              "      <td>...</td>\n",
              "      <td>...</td>\n",
              "      <td>...</td>\n",
              "      <td>...</td>\n",
              "      <td>...</td>\n",
              "      <td>...</td>\n",
              "      <td>...</td>\n",
              "      <td>...</td>\n",
              "      <td>...</td>\n",
              "    </tr>\n",
              "    <tr>\n",
              "      <th>210</th>\n",
              "      <td>0.818594</td>\n",
              "      <td>0.741351</td>\n",
              "      <td>1</td>\n",
              "      <td>0.673171</td>\n",
              "      <td>0</td>\n",
              "      <td>0</td>\n",
              "      <td>0.854167</td>\n",
              "      <td>0</td>\n",
              "      <td>0.872564</td>\n",
              "      <td>1</td>\n",
              "      <td>0.270270</td>\n",
              "    </tr>\n",
              "    <tr>\n",
              "      <th>211</th>\n",
              "      <td>0.352711</td>\n",
              "      <td>0.378913</td>\n",
              "      <td>2</td>\n",
              "      <td>0.536585</td>\n",
              "      <td>2</td>\n",
              "      <td>0</td>\n",
              "      <td>0.500000</td>\n",
              "      <td>0</td>\n",
              "      <td>0.090330</td>\n",
              "      <td>1</td>\n",
              "      <td>0.101351</td>\n",
              "    </tr>\n",
              "    <tr>\n",
              "      <th>212</th>\n",
              "      <td>0.538240</td>\n",
              "      <td>0.494234</td>\n",
              "      <td>1</td>\n",
              "      <td>0.560976</td>\n",
              "      <td>0</td>\n",
              "      <td>1</td>\n",
              "      <td>0.187500</td>\n",
              "      <td>0</td>\n",
              "      <td>0.693778</td>\n",
              "      <td>1</td>\n",
              "      <td>0.128378</td>\n",
              "    </tr>\n",
              "    <tr>\n",
              "      <th>213</th>\n",
              "      <td>0.682540</td>\n",
              "      <td>0.477759</td>\n",
              "      <td>1</td>\n",
              "      <td>0.195122</td>\n",
              "      <td>0</td>\n",
              "      <td>0</td>\n",
              "      <td>0.416667</td>\n",
              "      <td>1</td>\n",
              "      <td>0.338081</td>\n",
              "      <td>1</td>\n",
              "      <td>0.005405</td>\n",
              "    </tr>\n",
              "    <tr>\n",
              "      <th>214</th>\n",
              "      <td>0.435168</td>\n",
              "      <td>0.345964</td>\n",
              "      <td>2</td>\n",
              "      <td>0.073171</td>\n",
              "      <td>0</td>\n",
              "      <td>0</td>\n",
              "      <td>0.812500</td>\n",
              "      <td>1</td>\n",
              "      <td>0.337706</td>\n",
              "      <td>0</td>\n",
              "      <td>0.119805</td>\n",
              "    </tr>\n",
              "  </tbody>\n",
              "</table>\n",
              "<p>215 rows × 11 columns</p>\n",
              "</div>"
            ],
            "text/plain": [
              "        ssc_p     hsc_p  hsc_s  ...     mba_p  status    salary\n",
              "0    0.538240  0.889621      1  ...  0.284483       1  0.094595\n",
              "1    0.792414  0.680890      2  ...  0.564843       1  0.000000\n",
              "2    0.497011  0.510708      0  ...  0.247001       1  0.067568\n",
              "3    0.311482  0.247117      2  ...  0.308096       0  0.119805\n",
              "4    0.925788  0.602965      1  ...  0.160795       1  0.304054\n",
              "..        ...       ...    ...  ...       ...     ...       ...\n",
              "210  0.818594  0.741351      1  ...  0.872564       1  0.270270\n",
              "211  0.352711  0.378913      2  ...  0.090330       1  0.101351\n",
              "212  0.538240  0.494234      1  ...  0.693778       1  0.128378\n",
              "213  0.682540  0.477759      1  ...  0.338081       1  0.005405\n",
              "214  0.435168  0.345964      2  ...  0.337706       0  0.119805\n",
              "\n",
              "[215 rows x 11 columns]"
            ]
          },
          "metadata": {},
          "execution_count": 284
        }
      ]
    },
    {
      "cell_type": "code",
      "source": [
        "new_df1=new_df"
      ],
      "metadata": {
        "id": "9samjndTEDDw"
      },
      "execution_count": null,
      "outputs": []
    },
    {
      "cell_type": "code",
      "source": [
        "new_df1"
      ],
      "metadata": {
        "colab": {
          "base_uri": "https://localhost:8080/",
          "height": 443
        },
        "id": "0K9C35wZER5P",
        "outputId": "29ea4347-10a7-4c9f-d09a-86997041e497"
      },
      "execution_count": null,
      "outputs": [
        {
          "output_type": "execute_result",
          "data": {
            "text/html": [
              "<div>\n",
              "<style scoped>\n",
              "    .dataframe tbody tr th:only-of-type {\n",
              "        vertical-align: middle;\n",
              "    }\n",
              "\n",
              "    .dataframe tbody tr th {\n",
              "        vertical-align: top;\n",
              "    }\n",
              "\n",
              "    .dataframe thead th {\n",
              "        text-align: right;\n",
              "    }\n",
              "</style>\n",
              "<table border=\"1\" class=\"dataframe\">\n",
              "  <thead>\n",
              "    <tr style=\"text-align: right;\">\n",
              "      <th></th>\n",
              "      <th>ssc_p</th>\n",
              "      <th>hsc_p</th>\n",
              "      <th>hsc_s</th>\n",
              "      <th>degree_p</th>\n",
              "      <th>degree_t</th>\n",
              "      <th>workex</th>\n",
              "      <th>etest_p</th>\n",
              "      <th>specialisation</th>\n",
              "      <th>mba_p</th>\n",
              "      <th>status</th>\n",
              "      <th>salary</th>\n",
              "    </tr>\n",
              "  </thead>\n",
              "  <tbody>\n",
              "    <tr>\n",
              "      <th>0</th>\n",
              "      <td>0.538240</td>\n",
              "      <td>0.889621</td>\n",
              "      <td>1</td>\n",
              "      <td>0.195122</td>\n",
              "      <td>2</td>\n",
              "      <td>0</td>\n",
              "      <td>0.104167</td>\n",
              "      <td>1</td>\n",
              "      <td>0.284483</td>\n",
              "      <td>1</td>\n",
              "      <td>0.094595</td>\n",
              "    </tr>\n",
              "    <tr>\n",
              "      <th>1</th>\n",
              "      <td>0.792414</td>\n",
              "      <td>0.680890</td>\n",
              "      <td>2</td>\n",
              "      <td>0.670244</td>\n",
              "      <td>2</td>\n",
              "      <td>1</td>\n",
              "      <td>0.760417</td>\n",
              "      <td>0</td>\n",
              "      <td>0.564843</td>\n",
              "      <td>1</td>\n",
              "      <td>0.000000</td>\n",
              "    </tr>\n",
              "    <tr>\n",
              "      <th>2</th>\n",
              "      <td>0.497011</td>\n",
              "      <td>0.510708</td>\n",
              "      <td>0</td>\n",
              "      <td>0.341463</td>\n",
              "      <td>0</td>\n",
              "      <td>0</td>\n",
              "      <td>0.520833</td>\n",
              "      <td>0</td>\n",
              "      <td>0.247001</td>\n",
              "      <td>1</td>\n",
              "      <td>0.067568</td>\n",
              "    </tr>\n",
              "    <tr>\n",
              "      <th>3</th>\n",
              "      <td>0.311482</td>\n",
              "      <td>0.247117</td>\n",
              "      <td>2</td>\n",
              "      <td>0.048780</td>\n",
              "      <td>2</td>\n",
              "      <td>0</td>\n",
              "      <td>0.333333</td>\n",
              "      <td>1</td>\n",
              "      <td>0.308096</td>\n",
              "      <td>0</td>\n",
              "      <td>0.119805</td>\n",
              "    </tr>\n",
              "    <tr>\n",
              "      <th>4</th>\n",
              "      <td>0.925788</td>\n",
              "      <td>0.602965</td>\n",
              "      <td>1</td>\n",
              "      <td>0.568293</td>\n",
              "      <td>0</td>\n",
              "      <td>0</td>\n",
              "      <td>0.975000</td>\n",
              "      <td>0</td>\n",
              "      <td>0.160795</td>\n",
              "      <td>1</td>\n",
              "      <td>0.304054</td>\n",
              "    </tr>\n",
              "    <tr>\n",
              "      <th>...</th>\n",
              "      <td>...</td>\n",
              "      <td>...</td>\n",
              "      <td>...</td>\n",
              "      <td>...</td>\n",
              "      <td>...</td>\n",
              "      <td>...</td>\n",
              "      <td>...</td>\n",
              "      <td>...</td>\n",
              "      <td>...</td>\n",
              "      <td>...</td>\n",
              "      <td>...</td>\n",
              "    </tr>\n",
              "    <tr>\n",
              "      <th>210</th>\n",
              "      <td>0.818594</td>\n",
              "      <td>0.741351</td>\n",
              "      <td>1</td>\n",
              "      <td>0.673171</td>\n",
              "      <td>0</td>\n",
              "      <td>0</td>\n",
              "      <td>0.854167</td>\n",
              "      <td>0</td>\n",
              "      <td>0.872564</td>\n",
              "      <td>1</td>\n",
              "      <td>0.270270</td>\n",
              "    </tr>\n",
              "    <tr>\n",
              "      <th>211</th>\n",
              "      <td>0.352711</td>\n",
              "      <td>0.378913</td>\n",
              "      <td>2</td>\n",
              "      <td>0.536585</td>\n",
              "      <td>2</td>\n",
              "      <td>0</td>\n",
              "      <td>0.500000</td>\n",
              "      <td>0</td>\n",
              "      <td>0.090330</td>\n",
              "      <td>1</td>\n",
              "      <td>0.101351</td>\n",
              "    </tr>\n",
              "    <tr>\n",
              "      <th>212</th>\n",
              "      <td>0.538240</td>\n",
              "      <td>0.494234</td>\n",
              "      <td>1</td>\n",
              "      <td>0.560976</td>\n",
              "      <td>0</td>\n",
              "      <td>1</td>\n",
              "      <td>0.187500</td>\n",
              "      <td>0</td>\n",
              "      <td>0.693778</td>\n",
              "      <td>1</td>\n",
              "      <td>0.128378</td>\n",
              "    </tr>\n",
              "    <tr>\n",
              "      <th>213</th>\n",
              "      <td>0.682540</td>\n",
              "      <td>0.477759</td>\n",
              "      <td>1</td>\n",
              "      <td>0.195122</td>\n",
              "      <td>0</td>\n",
              "      <td>0</td>\n",
              "      <td>0.416667</td>\n",
              "      <td>1</td>\n",
              "      <td>0.338081</td>\n",
              "      <td>1</td>\n",
              "      <td>0.005405</td>\n",
              "    </tr>\n",
              "    <tr>\n",
              "      <th>214</th>\n",
              "      <td>0.435168</td>\n",
              "      <td>0.345964</td>\n",
              "      <td>2</td>\n",
              "      <td>0.073171</td>\n",
              "      <td>0</td>\n",
              "      <td>0</td>\n",
              "      <td>0.812500</td>\n",
              "      <td>1</td>\n",
              "      <td>0.337706</td>\n",
              "      <td>0</td>\n",
              "      <td>0.119805</td>\n",
              "    </tr>\n",
              "  </tbody>\n",
              "</table>\n",
              "<p>215 rows × 11 columns</p>\n",
              "</div>"
            ],
            "text/plain": [
              "        ssc_p     hsc_p  hsc_s  ...     mba_p  status    salary\n",
              "0    0.538240  0.889621      1  ...  0.284483       1  0.094595\n",
              "1    0.792414  0.680890      2  ...  0.564843       1  0.000000\n",
              "2    0.497011  0.510708      0  ...  0.247001       1  0.067568\n",
              "3    0.311482  0.247117      2  ...  0.308096       0  0.119805\n",
              "4    0.925788  0.602965      1  ...  0.160795       1  0.304054\n",
              "..        ...       ...    ...  ...       ...     ...       ...\n",
              "210  0.818594  0.741351      1  ...  0.872564       1  0.270270\n",
              "211  0.352711  0.378913      2  ...  0.090330       1  0.101351\n",
              "212  0.538240  0.494234      1  ...  0.693778       1  0.128378\n",
              "213  0.682540  0.477759      1  ...  0.338081       1  0.005405\n",
              "214  0.435168  0.345964      2  ...  0.337706       0  0.119805\n",
              "\n",
              "[215 rows x 11 columns]"
            ]
          },
          "metadata": {},
          "execution_count": 286
        }
      ]
    },
    {
      "cell_type": "code",
      "source": [
        "x = new_df1.drop(\"salary\", 1).values\n",
        "y = new_df1[\"salary\"].values"
      ],
      "metadata": {
        "id": "WzdeTRVuBlbt"
      },
      "execution_count": null,
      "outputs": []
    },
    {
      "cell_type": "code",
      "source": [
        "x"
      ],
      "metadata": {
        "colab": {
          "base_uri": "https://localhost:8080/"
        },
        "id": "k3dRRaq_Codl",
        "outputId": "e8f4076b-4772-42bc-b825-57dda5d00f47"
      },
      "execution_count": null,
      "outputs": [
        {
          "output_type": "execute_result",
          "data": {
            "text/plain": [
              "array([[0.53823954, 0.88962109, 1.        , ..., 1.        , 0.28448276,\n",
              "        1.        ],\n",
              "       [0.79241394, 0.68088962, 2.        , ..., 0.        , 0.56484258,\n",
              "        1.        ],\n",
              "       [0.49701093, 0.5107084 , 0.        , ..., 0.        , 0.2470015 ,\n",
              "        1.        ],\n",
              "       ...,\n",
              "       [0.53823954, 0.49423394, 1.        , ..., 0.        , 0.69377811,\n",
              "        1.        ],\n",
              "       [0.68253968, 0.47775947, 1.        , ..., 1.        , 0.33808096,\n",
              "        1.        ],\n",
              "       [0.43516801, 0.34596376, 2.        , ..., 1.        , 0.33770615,\n",
              "        0.        ]])"
            ]
          },
          "metadata": {},
          "execution_count": 288
        }
      ]
    },
    {
      "cell_type": "code",
      "source": [
        "y"
      ],
      "metadata": {
        "colab": {
          "base_uri": "https://localhost:8080/"
        },
        "id": "dlfygoZRCrKe",
        "outputId": "b61360be-cf5a-4b0f-ea09-9da4af278b69"
      },
      "execution_count": null,
      "outputs": [
        {
          "output_type": "execute_result",
          "data": {
            "text/plain": [
              "array([0.09459459, 0.        , 0.06756757, 0.1198046 , 0.30405405,\n",
              "       0.1198046 , 0.1198046 , 0.07027027, 0.04189189, 0.1198046 ,\n",
              "       0.08108108, 0.06756757, 0.1198046 , 0.02432432, 0.1198046 ,\n",
              "       0.        , 0.13513514, 0.1198046 , 0.1198046 , 0.04864865,\n",
              "       0.08783784, 0.26081081, 0.21621622, 0.13513514, 0.21621622,\n",
              "       0.1198046 , 0.05405405, 0.08783784, 0.2027027 , 0.1198046 ,\n",
              "       0.06756757, 0.1198046 , 0.10540541, 0.08108108, 0.1198046 ,\n",
              "       0.13513514, 0.1198046 , 0.16216216, 0.05405405, 0.28513514,\n",
              "       0.11756757, 0.1198046 , 0.1198046 , 0.13513514, 0.        ,\n",
              "       0.1198046 , 0.1198046 , 0.00540541, 0.06756757, 0.1198046 ,\n",
              "       0.        , 0.1198046 , 0.1198046 , 0.33783784, 0.02162162,\n",
              "       0.02702703, 0.05405405, 0.21621622, 0.09189189, 0.08783784,\n",
              "       0.08108108, 0.13513514, 0.05405405, 0.1198046 , 0.05405405,\n",
              "       0.1198046 , 0.10135135, 0.10135135, 0.1198046 , 0.10135135,\n",
              "       0.21621622, 0.05405405, 0.05405405, 0.02432432, 0.18378378,\n",
              "       0.1198046 , 0.04054054, 0.40540541, 0.09459459, 0.1198046 ,\n",
              "       0.05405405, 0.13513514, 0.1198046 , 0.13513514, 0.13513514,\n",
              "       0.27027027, 0.02702703, 0.1198046 , 0.01351351, 0.01351351,\n",
              "       0.13513514, 0.1198046 , 0.04054054, 0.1198046 , 0.08108108,\n",
              "       0.2972973 , 0.13513514, 0.1198046 , 0.02702703, 0.1198046 ,\n",
              "       0.1198046 , 0.24324324, 0.13513514, 0.05405405, 0.21621622,\n",
              "       0.1198046 , 0.1198046 , 0.        , 0.13513514, 0.1198046 ,\n",
              "       0.06756757, 0.1198046 , 0.06756757, 0.10810811, 0.06756757,\n",
              "       0.02162162, 0.13513514, 0.05405405, 0.1027027 , 1.        ,\n",
              "       0.1198046 , 0.06756757, 0.04864865, 0.05405405, 0.06756757,\n",
              "       0.2027027 , 0.01351351, 0.06756757, 0.27027027, 0.06756757,\n",
              "       0.1198046 , 0.21621622, 0.13513514, 0.06756757, 0.06756757,\n",
              "       0.        , 0.1198046 , 0.03378378, 0.06756757, 0.02702703,\n",
              "       0.08783784, 0.1198046 , 0.08108108, 0.13513514, 0.1198046 ,\n",
              "       0.27027027, 0.04459459, 0.13513514, 0.05405405, 0.1198046 ,\n",
              "       0.66216216, 0.09459459, 0.05405405, 0.18918919, 0.06756757,\n",
              "       0.1198046 , 0.07432432, 0.13513514, 0.1198046 , 0.1198046 ,\n",
              "       0.13513514, 0.1198046 , 0.11486486, 0.40540541, 0.06756757,\n",
              "       0.1198046 , 0.05405405, 0.1198046 , 0.1198046 , 0.1198046 ,\n",
              "       0.1198046 , 0.12162162, 0.13513514, 0.1198046 , 0.40540541,\n",
              "       0.1198046 , 0.02702703, 0.60810811, 0.2027027 , 0.1198046 ,\n",
              "       0.08783784, 0.1198046 , 0.1198046 , 0.1027027 , 0.1198046 ,\n",
              "       0.07027027, 0.1198046 , 0.10810811, 0.1198046 , 0.1198046 ,\n",
              "       0.1198046 , 0.08648649, 0.09459459, 0.13513514, 0.1198046 ,\n",
              "       0.10135135, 0.06756757, 0.08108108, 0.1198046 , 0.08783784,\n",
              "       0.13513514, 0.1198046 , 0.05405405, 0.08108108, 0.01351351,\n",
              "       0.06756757, 0.1198046 , 0.13513514, 0.1198046 , 0.02162162,\n",
              "       0.27027027, 0.10135135, 0.12837838, 0.00540541, 0.1198046 ])"
            ]
          },
          "metadata": {},
          "execution_count": 289
        }
      ]
    },
    {
      "cell_type": "code",
      "source": [
        "from sklearn.model_selection import train_test_split"
      ],
      "metadata": {
        "id": "ZWJ2E7x0BCCt"
      },
      "execution_count": null,
      "outputs": []
    },
    {
      "cell_type": "code",
      "source": [
        "x_train,x_test,y_train,y_test=train_test_split(x,y,test_size=0.3)"
      ],
      "metadata": {
        "id": "29FTQZhxBL5J"
      },
      "execution_count": null,
      "outputs": []
    },
    {
      "cell_type": "markdown",
      "source": [
        "LinearRegression"
      ],
      "metadata": {
        "id": "koTT3t-ODrmd"
      }
    },
    {
      "cell_type": "code",
      "source": [
        "from sklearn.linear_model import LinearRegression\n",
        "linear = LinearRegression()"
      ],
      "metadata": {
        "id": "gWqmq5iaDrCN"
      },
      "execution_count": null,
      "outputs": []
    },
    {
      "cell_type": "code",
      "source": [
        "linear.fit(x_train, y_train)"
      ],
      "metadata": {
        "colab": {
          "base_uri": "https://localhost:8080/"
        },
        "id": "113QC-U7D3Ea",
        "outputId": "174628d7-dec9-48e6-ea71-1dba23b4aed9"
      },
      "execution_count": null,
      "outputs": [
        {
          "output_type": "execute_result",
          "data": {
            "text/plain": [
              "LinearRegression()"
            ]
          },
          "metadata": {},
          "execution_count": 293
        }
      ]
    },
    {
      "cell_type": "code",
      "source": [
        "linear.score(x_test, y_test)"
      ],
      "metadata": {
        "colab": {
          "base_uri": "https://localhost:8080/"
        },
        "id": "cLvrUncVEX7Z",
        "outputId": "cda8dd32-7e99-4438-bb67-1d2bfbe02962"
      },
      "execution_count": null,
      "outputs": [
        {
          "output_type": "execute_result",
          "data": {
            "text/plain": [
              "0.018030411850299743"
            ]
          },
          "metadata": {},
          "execution_count": 294
        }
      ]
    },
    {
      "cell_type": "markdown",
      "source": [
        "KNN"
      ],
      "metadata": {
        "id": "xBACUqplFDG-"
      }
    },
    {
      "cell_type": "code",
      "source": [
        "new_df2=new_df"
      ],
      "metadata": {
        "id": "yVAt16_eFCOu"
      },
      "execution_count": null,
      "outputs": []
    },
    {
      "cell_type": "code",
      "source": [
        "new_df2"
      ],
      "metadata": {
        "colab": {
          "base_uri": "https://localhost:8080/",
          "height": 443
        },
        "id": "nsQhoZGVFU4m",
        "outputId": "33be4d6c-41d8-4e86-90cc-31a24b1095d5"
      },
      "execution_count": null,
      "outputs": [
        {
          "output_type": "execute_result",
          "data": {
            "text/html": [
              "<div>\n",
              "<style scoped>\n",
              "    .dataframe tbody tr th:only-of-type {\n",
              "        vertical-align: middle;\n",
              "    }\n",
              "\n",
              "    .dataframe tbody tr th {\n",
              "        vertical-align: top;\n",
              "    }\n",
              "\n",
              "    .dataframe thead th {\n",
              "        text-align: right;\n",
              "    }\n",
              "</style>\n",
              "<table border=\"1\" class=\"dataframe\">\n",
              "  <thead>\n",
              "    <tr style=\"text-align: right;\">\n",
              "      <th></th>\n",
              "      <th>ssc_p</th>\n",
              "      <th>hsc_p</th>\n",
              "      <th>hsc_s</th>\n",
              "      <th>degree_p</th>\n",
              "      <th>degree_t</th>\n",
              "      <th>workex</th>\n",
              "      <th>etest_p</th>\n",
              "      <th>specialisation</th>\n",
              "      <th>mba_p</th>\n",
              "      <th>status</th>\n",
              "      <th>salary</th>\n",
              "    </tr>\n",
              "  </thead>\n",
              "  <tbody>\n",
              "    <tr>\n",
              "      <th>0</th>\n",
              "      <td>0.538240</td>\n",
              "      <td>0.889621</td>\n",
              "      <td>1</td>\n",
              "      <td>0.195122</td>\n",
              "      <td>2</td>\n",
              "      <td>0</td>\n",
              "      <td>0.104167</td>\n",
              "      <td>1</td>\n",
              "      <td>0.284483</td>\n",
              "      <td>1</td>\n",
              "      <td>0.094595</td>\n",
              "    </tr>\n",
              "    <tr>\n",
              "      <th>1</th>\n",
              "      <td>0.792414</td>\n",
              "      <td>0.680890</td>\n",
              "      <td>2</td>\n",
              "      <td>0.670244</td>\n",
              "      <td>2</td>\n",
              "      <td>1</td>\n",
              "      <td>0.760417</td>\n",
              "      <td>0</td>\n",
              "      <td>0.564843</td>\n",
              "      <td>1</td>\n",
              "      <td>0.000000</td>\n",
              "    </tr>\n",
              "    <tr>\n",
              "      <th>2</th>\n",
              "      <td>0.497011</td>\n",
              "      <td>0.510708</td>\n",
              "      <td>0</td>\n",
              "      <td>0.341463</td>\n",
              "      <td>0</td>\n",
              "      <td>0</td>\n",
              "      <td>0.520833</td>\n",
              "      <td>0</td>\n",
              "      <td>0.247001</td>\n",
              "      <td>1</td>\n",
              "      <td>0.067568</td>\n",
              "    </tr>\n",
              "    <tr>\n",
              "      <th>3</th>\n",
              "      <td>0.311482</td>\n",
              "      <td>0.247117</td>\n",
              "      <td>2</td>\n",
              "      <td>0.048780</td>\n",
              "      <td>2</td>\n",
              "      <td>0</td>\n",
              "      <td>0.333333</td>\n",
              "      <td>1</td>\n",
              "      <td>0.308096</td>\n",
              "      <td>0</td>\n",
              "      <td>0.119805</td>\n",
              "    </tr>\n",
              "    <tr>\n",
              "      <th>4</th>\n",
              "      <td>0.925788</td>\n",
              "      <td>0.602965</td>\n",
              "      <td>1</td>\n",
              "      <td>0.568293</td>\n",
              "      <td>0</td>\n",
              "      <td>0</td>\n",
              "      <td>0.975000</td>\n",
              "      <td>0</td>\n",
              "      <td>0.160795</td>\n",
              "      <td>1</td>\n",
              "      <td>0.304054</td>\n",
              "    </tr>\n",
              "    <tr>\n",
              "      <th>...</th>\n",
              "      <td>...</td>\n",
              "      <td>...</td>\n",
              "      <td>...</td>\n",
              "      <td>...</td>\n",
              "      <td>...</td>\n",
              "      <td>...</td>\n",
              "      <td>...</td>\n",
              "      <td>...</td>\n",
              "      <td>...</td>\n",
              "      <td>...</td>\n",
              "      <td>...</td>\n",
              "    </tr>\n",
              "    <tr>\n",
              "      <th>210</th>\n",
              "      <td>0.818594</td>\n",
              "      <td>0.741351</td>\n",
              "      <td>1</td>\n",
              "      <td>0.673171</td>\n",
              "      <td>0</td>\n",
              "      <td>0</td>\n",
              "      <td>0.854167</td>\n",
              "      <td>0</td>\n",
              "      <td>0.872564</td>\n",
              "      <td>1</td>\n",
              "      <td>0.270270</td>\n",
              "    </tr>\n",
              "    <tr>\n",
              "      <th>211</th>\n",
              "      <td>0.352711</td>\n",
              "      <td>0.378913</td>\n",
              "      <td>2</td>\n",
              "      <td>0.536585</td>\n",
              "      <td>2</td>\n",
              "      <td>0</td>\n",
              "      <td>0.500000</td>\n",
              "      <td>0</td>\n",
              "      <td>0.090330</td>\n",
              "      <td>1</td>\n",
              "      <td>0.101351</td>\n",
              "    </tr>\n",
              "    <tr>\n",
              "      <th>212</th>\n",
              "      <td>0.538240</td>\n",
              "      <td>0.494234</td>\n",
              "      <td>1</td>\n",
              "      <td>0.560976</td>\n",
              "      <td>0</td>\n",
              "      <td>1</td>\n",
              "      <td>0.187500</td>\n",
              "      <td>0</td>\n",
              "      <td>0.693778</td>\n",
              "      <td>1</td>\n",
              "      <td>0.128378</td>\n",
              "    </tr>\n",
              "    <tr>\n",
              "      <th>213</th>\n",
              "      <td>0.682540</td>\n",
              "      <td>0.477759</td>\n",
              "      <td>1</td>\n",
              "      <td>0.195122</td>\n",
              "      <td>0</td>\n",
              "      <td>0</td>\n",
              "      <td>0.416667</td>\n",
              "      <td>1</td>\n",
              "      <td>0.338081</td>\n",
              "      <td>1</td>\n",
              "      <td>0.005405</td>\n",
              "    </tr>\n",
              "    <tr>\n",
              "      <th>214</th>\n",
              "      <td>0.435168</td>\n",
              "      <td>0.345964</td>\n",
              "      <td>2</td>\n",
              "      <td>0.073171</td>\n",
              "      <td>0</td>\n",
              "      <td>0</td>\n",
              "      <td>0.812500</td>\n",
              "      <td>1</td>\n",
              "      <td>0.337706</td>\n",
              "      <td>0</td>\n",
              "      <td>0.119805</td>\n",
              "    </tr>\n",
              "  </tbody>\n",
              "</table>\n",
              "<p>215 rows × 11 columns</p>\n",
              "</div>"
            ],
            "text/plain": [
              "        ssc_p     hsc_p  hsc_s  ...     mba_p  status    salary\n",
              "0    0.538240  0.889621      1  ...  0.284483       1  0.094595\n",
              "1    0.792414  0.680890      2  ...  0.564843       1  0.000000\n",
              "2    0.497011  0.510708      0  ...  0.247001       1  0.067568\n",
              "3    0.311482  0.247117      2  ...  0.308096       0  0.119805\n",
              "4    0.925788  0.602965      1  ...  0.160795       1  0.304054\n",
              "..        ...       ...    ...  ...       ...     ...       ...\n",
              "210  0.818594  0.741351      1  ...  0.872564       1  0.270270\n",
              "211  0.352711  0.378913      2  ...  0.090330       1  0.101351\n",
              "212  0.538240  0.494234      1  ...  0.693778       1  0.128378\n",
              "213  0.682540  0.477759      1  ...  0.338081       1  0.005405\n",
              "214  0.435168  0.345964      2  ...  0.337706       0  0.119805\n",
              "\n",
              "[215 rows x 11 columns]"
            ]
          },
          "metadata": {},
          "execution_count": 296
        }
      ]
    },
    {
      "cell_type": "code",
      "source": [
        "x = new_df2.drop(\"status\", 1).values\n",
        "y = new_df2[\"status\"].values"
      ],
      "metadata": {
        "id": "ZRlc6HAZFlrW"
      },
      "execution_count": null,
      "outputs": []
    },
    {
      "cell_type": "code",
      "source": [
        "x_train,x_test,y_train,y_test=train_test_split(x,y,test_size=0.3)"
      ],
      "metadata": {
        "id": "ofMI6_tMGRbz"
      },
      "execution_count": null,
      "outputs": []
    },
    {
      "cell_type": "code",
      "source": [
        "from sklearn.neighbors import KNeighborsClassifier"
      ],
      "metadata": {
        "id": "lUBE7DbMGEM9"
      },
      "execution_count": null,
      "outputs": []
    },
    {
      "cell_type": "code",
      "source": [
        "knn_clf=KNeighborsClassifier(n_neighbors=3)"
      ],
      "metadata": {
        "id": "SnPtM6mMGJ1Y"
      },
      "execution_count": null,
      "outputs": []
    },
    {
      "cell_type": "code",
      "source": [
        "knn_clf.fit(x_train,y_train)"
      ],
      "metadata": {
        "colab": {
          "base_uri": "https://localhost:8080/"
        },
        "id": "ku-JVv4DGLjQ",
        "outputId": "cee4f9a0-0ac5-4812-93f6-1f9caebcec91"
      },
      "execution_count": null,
      "outputs": [
        {
          "output_type": "execute_result",
          "data": {
            "text/plain": [
              "KNeighborsClassifier(n_neighbors=3)"
            ]
          },
          "metadata": {},
          "execution_count": 301
        }
      ]
    },
    {
      "cell_type": "code",
      "source": [
        "knn_clf.score(x_test,y_test)"
      ],
      "metadata": {
        "colab": {
          "base_uri": "https://localhost:8080/"
        },
        "id": "HrNOA5ZDGYLv",
        "outputId": "5c851a0f-518d-45b2-9a7c-846bcb562751"
      },
      "execution_count": null,
      "outputs": [
        {
          "output_type": "execute_result",
          "data": {
            "text/plain": [
              "0.6923076923076923"
            ]
          },
          "metadata": {},
          "execution_count": 302
        }
      ]
    },
    {
      "cell_type": "code",
      "source": [
        "y_preds=knn_clf.predict(x_test)\n",
        "from sklearn.metrics import classification_report\n",
        "print(classification_report(y_test,y_preds))"
      ],
      "metadata": {
        "colab": {
          "base_uri": "https://localhost:8080/"
        },
        "id": "9YinfgTjJh4u",
        "outputId": "84917488-6ad1-409e-c7f9-e3caec009bf5"
      },
      "execution_count": null,
      "outputs": [
        {
          "output_type": "stream",
          "name": "stdout",
          "text": [
            "              precision    recall  f1-score   support\n",
            "\n",
            "           0       0.58      0.32      0.41        22\n",
            "           1       0.72      0.88      0.79        43\n",
            "\n",
            "    accuracy                           0.69        65\n",
            "   macro avg       0.65      0.60      0.60        65\n",
            "weighted avg       0.67      0.69      0.66        65\n",
            "\n"
          ]
        }
      ]
    },
    {
      "cell_type": "markdown",
      "source": [
        "Random Forest"
      ],
      "metadata": {
        "id": "xuvm_S9aG7gE"
      }
    },
    {
      "cell_type": "code",
      "source": [
        "new_df3=new_df\n",
        "new_df3"
      ],
      "metadata": {
        "colab": {
          "base_uri": "https://localhost:8080/",
          "height": 443
        },
        "id": "6pTkL3ZsHCaq",
        "outputId": "fa301362-5b94-4120-a612-a80653b718a4"
      },
      "execution_count": null,
      "outputs": [
        {
          "output_type": "execute_result",
          "data": {
            "text/html": [
              "<div>\n",
              "<style scoped>\n",
              "    .dataframe tbody tr th:only-of-type {\n",
              "        vertical-align: middle;\n",
              "    }\n",
              "\n",
              "    .dataframe tbody tr th {\n",
              "        vertical-align: top;\n",
              "    }\n",
              "\n",
              "    .dataframe thead th {\n",
              "        text-align: right;\n",
              "    }\n",
              "</style>\n",
              "<table border=\"1\" class=\"dataframe\">\n",
              "  <thead>\n",
              "    <tr style=\"text-align: right;\">\n",
              "      <th></th>\n",
              "      <th>ssc_p</th>\n",
              "      <th>hsc_p</th>\n",
              "      <th>hsc_s</th>\n",
              "      <th>degree_p</th>\n",
              "      <th>degree_t</th>\n",
              "      <th>workex</th>\n",
              "      <th>etest_p</th>\n",
              "      <th>specialisation</th>\n",
              "      <th>mba_p</th>\n",
              "      <th>status</th>\n",
              "      <th>salary</th>\n",
              "    </tr>\n",
              "  </thead>\n",
              "  <tbody>\n",
              "    <tr>\n",
              "      <th>0</th>\n",
              "      <td>0.538240</td>\n",
              "      <td>0.889621</td>\n",
              "      <td>1</td>\n",
              "      <td>0.195122</td>\n",
              "      <td>2</td>\n",
              "      <td>0</td>\n",
              "      <td>0.104167</td>\n",
              "      <td>1</td>\n",
              "      <td>0.284483</td>\n",
              "      <td>1</td>\n",
              "      <td>0.094595</td>\n",
              "    </tr>\n",
              "    <tr>\n",
              "      <th>1</th>\n",
              "      <td>0.792414</td>\n",
              "      <td>0.680890</td>\n",
              "      <td>2</td>\n",
              "      <td>0.670244</td>\n",
              "      <td>2</td>\n",
              "      <td>1</td>\n",
              "      <td>0.760417</td>\n",
              "      <td>0</td>\n",
              "      <td>0.564843</td>\n",
              "      <td>1</td>\n",
              "      <td>0.000000</td>\n",
              "    </tr>\n",
              "    <tr>\n",
              "      <th>2</th>\n",
              "      <td>0.497011</td>\n",
              "      <td>0.510708</td>\n",
              "      <td>0</td>\n",
              "      <td>0.341463</td>\n",
              "      <td>0</td>\n",
              "      <td>0</td>\n",
              "      <td>0.520833</td>\n",
              "      <td>0</td>\n",
              "      <td>0.247001</td>\n",
              "      <td>1</td>\n",
              "      <td>0.067568</td>\n",
              "    </tr>\n",
              "    <tr>\n",
              "      <th>3</th>\n",
              "      <td>0.311482</td>\n",
              "      <td>0.247117</td>\n",
              "      <td>2</td>\n",
              "      <td>0.048780</td>\n",
              "      <td>2</td>\n",
              "      <td>0</td>\n",
              "      <td>0.333333</td>\n",
              "      <td>1</td>\n",
              "      <td>0.308096</td>\n",
              "      <td>0</td>\n",
              "      <td>0.119805</td>\n",
              "    </tr>\n",
              "    <tr>\n",
              "      <th>4</th>\n",
              "      <td>0.925788</td>\n",
              "      <td>0.602965</td>\n",
              "      <td>1</td>\n",
              "      <td>0.568293</td>\n",
              "      <td>0</td>\n",
              "      <td>0</td>\n",
              "      <td>0.975000</td>\n",
              "      <td>0</td>\n",
              "      <td>0.160795</td>\n",
              "      <td>1</td>\n",
              "      <td>0.304054</td>\n",
              "    </tr>\n",
              "    <tr>\n",
              "      <th>...</th>\n",
              "      <td>...</td>\n",
              "      <td>...</td>\n",
              "      <td>...</td>\n",
              "      <td>...</td>\n",
              "      <td>...</td>\n",
              "      <td>...</td>\n",
              "      <td>...</td>\n",
              "      <td>...</td>\n",
              "      <td>...</td>\n",
              "      <td>...</td>\n",
              "      <td>...</td>\n",
              "    </tr>\n",
              "    <tr>\n",
              "      <th>210</th>\n",
              "      <td>0.818594</td>\n",
              "      <td>0.741351</td>\n",
              "      <td>1</td>\n",
              "      <td>0.673171</td>\n",
              "      <td>0</td>\n",
              "      <td>0</td>\n",
              "      <td>0.854167</td>\n",
              "      <td>0</td>\n",
              "      <td>0.872564</td>\n",
              "      <td>1</td>\n",
              "      <td>0.270270</td>\n",
              "    </tr>\n",
              "    <tr>\n",
              "      <th>211</th>\n",
              "      <td>0.352711</td>\n",
              "      <td>0.378913</td>\n",
              "      <td>2</td>\n",
              "      <td>0.536585</td>\n",
              "      <td>2</td>\n",
              "      <td>0</td>\n",
              "      <td>0.500000</td>\n",
              "      <td>0</td>\n",
              "      <td>0.090330</td>\n",
              "      <td>1</td>\n",
              "      <td>0.101351</td>\n",
              "    </tr>\n",
              "    <tr>\n",
              "      <th>212</th>\n",
              "      <td>0.538240</td>\n",
              "      <td>0.494234</td>\n",
              "      <td>1</td>\n",
              "      <td>0.560976</td>\n",
              "      <td>0</td>\n",
              "      <td>1</td>\n",
              "      <td>0.187500</td>\n",
              "      <td>0</td>\n",
              "      <td>0.693778</td>\n",
              "      <td>1</td>\n",
              "      <td>0.128378</td>\n",
              "    </tr>\n",
              "    <tr>\n",
              "      <th>213</th>\n",
              "      <td>0.682540</td>\n",
              "      <td>0.477759</td>\n",
              "      <td>1</td>\n",
              "      <td>0.195122</td>\n",
              "      <td>0</td>\n",
              "      <td>0</td>\n",
              "      <td>0.416667</td>\n",
              "      <td>1</td>\n",
              "      <td>0.338081</td>\n",
              "      <td>1</td>\n",
              "      <td>0.005405</td>\n",
              "    </tr>\n",
              "    <tr>\n",
              "      <th>214</th>\n",
              "      <td>0.435168</td>\n",
              "      <td>0.345964</td>\n",
              "      <td>2</td>\n",
              "      <td>0.073171</td>\n",
              "      <td>0</td>\n",
              "      <td>0</td>\n",
              "      <td>0.812500</td>\n",
              "      <td>1</td>\n",
              "      <td>0.337706</td>\n",
              "      <td>0</td>\n",
              "      <td>0.119805</td>\n",
              "    </tr>\n",
              "  </tbody>\n",
              "</table>\n",
              "<p>215 rows × 11 columns</p>\n",
              "</div>"
            ],
            "text/plain": [
              "        ssc_p     hsc_p  hsc_s  ...     mba_p  status    salary\n",
              "0    0.538240  0.889621      1  ...  0.284483       1  0.094595\n",
              "1    0.792414  0.680890      2  ...  0.564843       1  0.000000\n",
              "2    0.497011  0.510708      0  ...  0.247001       1  0.067568\n",
              "3    0.311482  0.247117      2  ...  0.308096       0  0.119805\n",
              "4    0.925788  0.602965      1  ...  0.160795       1  0.304054\n",
              "..        ...       ...    ...  ...       ...     ...       ...\n",
              "210  0.818594  0.741351      1  ...  0.872564       1  0.270270\n",
              "211  0.352711  0.378913      2  ...  0.090330       1  0.101351\n",
              "212  0.538240  0.494234      1  ...  0.693778       1  0.128378\n",
              "213  0.682540  0.477759      1  ...  0.338081       1  0.005405\n",
              "214  0.435168  0.345964      2  ...  0.337706       0  0.119805\n",
              "\n",
              "[215 rows x 11 columns]"
            ]
          },
          "metadata": {},
          "execution_count": 304
        }
      ]
    },
    {
      "cell_type": "code",
      "source": [
        "x = new_df3.drop(\"status\", 1).values\n",
        "y = new_df3[\"status\"].values"
      ],
      "metadata": {
        "id": "82QPQLK2HRx5"
      },
      "execution_count": null,
      "outputs": []
    },
    {
      "cell_type": "code",
      "source": [
        "x_train,x_test,y_train,y_test=train_test_split(x,y,test_size=0.3)"
      ],
      "metadata": {
        "id": "CffzLYXgHX3M"
      },
      "execution_count": null,
      "outputs": []
    },
    {
      "cell_type": "code",
      "source": [
        "from sklearn.ensemble import RandomForestClassifier"
      ],
      "metadata": {
        "id": "zJpIKA5PG6yu"
      },
      "execution_count": null,
      "outputs": []
    },
    {
      "cell_type": "code",
      "source": [
        "rmf = RandomForestClassifier()"
      ],
      "metadata": {
        "id": "gxdT9Pi4Hajb"
      },
      "execution_count": null,
      "outputs": []
    },
    {
      "cell_type": "code",
      "source": [
        "rmf.fit(x_train, y_train)"
      ],
      "metadata": {
        "colab": {
          "base_uri": "https://localhost:8080/"
        },
        "id": "5sfFlSr_HcsG",
        "outputId": "c68f471f-c3e3-4014-ad82-b2f9cc211024"
      },
      "execution_count": null,
      "outputs": [
        {
          "output_type": "execute_result",
          "data": {
            "text/plain": [
              "RandomForestClassifier()"
            ]
          },
          "metadata": {},
          "execution_count": 309
        }
      ]
    },
    {
      "cell_type": "code",
      "source": [
        "rmf.score(x_test, y_test)"
      ],
      "metadata": {
        "colab": {
          "base_uri": "https://localhost:8080/"
        },
        "id": "hN-gd4yhHwIY",
        "outputId": "e36ccad6-e408-4bbb-9aac-fba21b494ac0"
      },
      "execution_count": null,
      "outputs": [
        {
          "output_type": "execute_result",
          "data": {
            "text/plain": [
              "0.9538461538461539"
            ]
          },
          "metadata": {},
          "execution_count": 310
        }
      ]
    },
    {
      "cell_type": "code",
      "source": [
        "y_preds=rmf.predict(x_test)\n",
        "from sklearn.metrics import classification_report\n",
        "print(classification_report(y_test,y_preds))"
      ],
      "metadata": {
        "colab": {
          "base_uri": "https://localhost:8080/"
        },
        "id": "O7ghMNofJaFi",
        "outputId": "3559b1f5-734b-43a6-b61c-3237d0d56033"
      },
      "execution_count": null,
      "outputs": [
        {
          "output_type": "stream",
          "name": "stdout",
          "text": [
            "              precision    recall  f1-score   support\n",
            "\n",
            "           0       1.00      0.82      0.90        17\n",
            "           1       0.94      1.00      0.97        48\n",
            "\n",
            "    accuracy                           0.95        65\n",
            "   macro avg       0.97      0.91      0.94        65\n",
            "weighted avg       0.96      0.95      0.95        65\n",
            "\n"
          ]
        }
      ]
    }
  ]
}